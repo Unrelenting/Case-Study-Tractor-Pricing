{
 "cells": [
  {
   "cell_type": "code",
   "execution_count": 100,
   "metadata": {},
   "outputs": [],
   "source": [
    "import pandas as pd\n",
    "import matplotlib.pyplot as plt\n",
    "import numpy as np\n",
    "import statsmodels.api as sm\n",
    "import statsmodels.formula.api as smf\n",
    "from pandas.plotting import scatter_matrix\n",
    "from statsmodels.stats.outliers_influence import variance_inflation_factor\n",
    "from sklearn.linear_model import LinearRegression\n",
    "%matplotlib inline"
   ]
  },
  {
   "cell_type": "code",
   "execution_count": 48,
   "metadata": {},
   "outputs": [],
   "source": [
    "df=pd.read_csv('data/Train.csv')\n"
   ]
  },
  {
   "cell_type": "code",
   "execution_count": 76,
   "metadata": {},
   "outputs": [
    {
     "data": {
      "text/plain": [
       "SalesID                              int64\n",
       "SalePrice                            int64\n",
       "MachineID                            int64\n",
       "ModelID                              int64\n",
       "datasource                           int64\n",
       "auctioneerID                       float64\n",
       "YearMade                             int64\n",
       "MachineHoursCurrentMeter           float64\n",
       "UsageBand                           object\n",
       "saledate                    datetime64[ns]\n",
       "fiModelDesc                         object\n",
       "fiBaseModel                         object\n",
       "fiSecondaryDesc                     object\n",
       "fiModelSeries                       object\n",
       "fiModelDescriptor                   object\n",
       "ProductSize                         object\n",
       "fiProductClassDesc                  object\n",
       "state                               object\n",
       "ProductGroup                        object\n",
       "ProductGroupDesc                    object\n",
       "Drive_System                        object\n",
       "Enclosure                           object\n",
       "Forks                               object\n",
       "Pad_Type                            object\n",
       "Ride_Control                        object\n",
       "Stick                               object\n",
       "Transmission                        object\n",
       "Turbocharged                        object\n",
       "Blade_Extension                     object\n",
       "Blade_Width                         object\n",
       "Enclosure_Type                      object\n",
       "Engine_Horsepower                   object\n",
       "Hydraulics                          object\n",
       "Pushblock                           object\n",
       "Ripper                              object\n",
       "Scarifier                           object\n",
       "Tip_Control                         object\n",
       "Tire_Size                           object\n",
       "Coupler                             object\n",
       "Coupler_System                      object\n",
       "Grouser_Tracks                      object\n",
       "Hydraulics_Flow                     object\n",
       "Track_Type                          object\n",
       "Undercarriage_Pad_Width             object\n",
       "Stick_Length                        object\n",
       "Thumb                               object\n",
       "Pattern_Changer                     object\n",
       "Grouser_Type                        object\n",
       "Backhoe_Mounting                    object\n",
       "Blade_Type                          object\n",
       "Travel_Controls                     object\n",
       "Differential_Type                   object\n",
       "Steering_Controls                   object\n",
       "saleyear                             int64\n",
       "dtype: object"
      ]
     },
     "execution_count": 76,
     "metadata": {},
     "output_type": "execute_result"
    }
   ],
   "source": [
    "df.dtypes"
   ]
  },
  {
   "cell_type": "code",
   "execution_count": 82,
   "metadata": {},
   "outputs": [
    {
     "data": {
      "text/plain": [
       "401125"
      ]
     },
     "execution_count": 82,
     "metadata": {},
     "output_type": "execute_result"
    }
   ],
   "source": [
    "df.shape[0]"
   ]
  },
  {
   "cell_type": "code",
   "execution_count": 50,
   "metadata": {},
   "outputs": [],
   "source": [
    "#|raw_data['Mycol'] =  pd.to_datetime(raw_data['Mycol'], format='%d%b%Y:%H:%M:%S.%f')\n",
    "\n",
    "df.saledate = pd.to_datetime(df.saledate)\n"
   ]
  },
  {
   "cell_type": "code",
   "execution_count": 83,
   "metadata": {},
   "outputs": [
    {
     "data": {
      "text/plain": [
       "array([1000, 1919, 1920, 1937, 1942, 1947, 1948, 1949, 1950, 1951, 1952,\n",
       "       1953, 1954, 1955, 1956, 1957, 1958, 1959, 1960, 1961, 1962, 1963,\n",
       "       1964, 1965, 1966, 1967, 1968, 1969, 1970, 1971, 1972, 1973, 1974,\n",
       "       1975, 1976, 1977, 1978, 1979, 1980, 1981, 1982, 1983, 1984, 1985,\n",
       "       1986, 1987, 1988, 1989, 1990, 1991, 1992, 1993, 1994, 1995, 1996,\n",
       "       1997, 1998, 1999, 2000, 2001, 2002, 2003, 2004, 2005, 2006, 2007,\n",
       "       2008, 2009, 2010, 2011, 2012, 2013])"
      ]
     },
     "execution_count": 83,
     "metadata": {},
     "output_type": "execute_result"
    }
   ],
   "source": [
    "df['saleyear'] = df.saledate.dt.year\n",
    "df.saleyear.describe()\n",
    "df.YearMade.describe()\n",
    "df.YearMade.sort_values().unique()"
   ]
  },
  {
   "cell_type": "markdown",
   "metadata": {},
   "source": [
    "### Looking at regression for YearMade"
   ]
  },
  {
   "cell_type": "code",
   "execution_count": 98,
   "metadata": {},
   "outputs": [
    {
     "name": "stderr",
     "output_type": "stream",
     "text": [
      "/home/rosina/anaconda2/lib/python2.7/site-packages/ipykernel_launcher.py:3: SettingWithCopyWarning: \n",
      "A value is trying to be set on a copy of a slice from a DataFrame.\n",
      "Try using .loc[row_indexer,col_indexer] = value instead\n",
      "\n",
      "See the caveats in the documentation: http://pandas.pydata.org/pandas-docs/stable/indexing.html#indexing-view-versus-copy\n",
      "  This is separate from the ipykernel package so we can avoid doing imports until\n"
     ]
    },
    {
     "data": {
      "image/png": "[encoded data removed]",
      "text/plain": [
       "<matplotlib.figure.Figure at 0x7fc047bc94d0>"
      ]
     },
     "metadata": {},
     "output_type": "display_data"
    }
   ],
   "source": [
    "# Remove nonsensical values\n",
    "df_reduce = df[df['YearMade']>1100]\n",
    "                    \n",
    "\n",
    "#Visualize\n",
    "plt.figure(figsize=(12,12))\n",
    "plt.scatter(X_train[:,1],y_train)\n",
    "plt.show()"
   ]
  },
  {
   "cell_type": "code",
   "execution_count": null,
   "metadata": {
    "collapsed": true
   },
   "outputs": [],
   "source": []
  },
  {
   "cell_type": "code",
   "execution_count": 99,
   "metadata": {},
   "outputs": [
    {
     "data": {
      "text/html": [
       "<table class=\"simpletable\">\n",
       "<caption>OLS Regression Results</caption>\n",
       "<tr>\n",
       "  <th>Dep. Variable:</th>            <td>y</td>        <th>  R-squared:         </th>  <td>   0.048</td>  \n",
       "</tr>\n",
       "<tr>\n",
       "  <th>Model:</th>                   <td>OLS</td>       <th>  Adj. R-squared:    </th>  <td>   0.048</td>  \n",
       "</tr>\n",
       "<tr>\n",
       "  <th>Method:</th>             <td>Least Squares</td>  <th>  F-statistic:       </th>  <td>1.821e+04</td> \n",
       "</tr>\n",
       "<tr>\n",
       "  <th>Date:</th>             <td>Fri, 14 Jul 2017</td> <th>  Prob (F-statistic):</th>   <td>  0.00</td>   \n",
       "</tr>\n",
       "<tr>\n",
       "  <th>Time:</th>                 <td>11:51:30</td>     <th>  Log-Likelihood:    </th> <td>-4.1579e+06</td>\n",
       "</tr>\n",
       "<tr>\n",
       "  <th>No. Observations:</th>      <td>362940</td>      <th>  AIC:               </th>  <td>8.316e+06</td> \n",
       "</tr>\n",
       "<tr>\n",
       "  <th>Df Residuals:</th>          <td>362938</td>      <th>  BIC:               </th>  <td>8.316e+06</td> \n",
       "</tr>\n",
       "<tr>\n",
       "  <th>Df Model:</th>              <td>     1</td>      <th>                     </th>      <td> </td>     \n",
       "</tr>\n",
       "<tr>\n",
       "  <th>Covariance Type:</th>      <td>nonrobust</td>    <th>                     </th>      <td> </td>     \n",
       "</tr>\n",
       "</table>\n",
       "<table class=\"simpletable\">\n",
       "<tr>\n",
       "    <td></td>       <th>coef</th>     <th>std err</th>      <th>t</th>      <th>P>|t|</th>  <th>[0.025</th>    <th>0.975]</th>  \n",
       "</tr>\n",
       "<tr>\n",
       "  <th>const</th> <td>-1.022e+06</td> <td> 7811.973</td> <td> -130.806</td> <td> 0.000</td> <td>-1.04e+06</td> <td>-1.01e+06</td>\n",
       "</tr>\n",
       "<tr>\n",
       "  <th>x1</th>    <td>  528.6875</td> <td>    3.918</td> <td>  134.932</td> <td> 0.000</td> <td>  521.008</td> <td>  536.367</td>\n",
       "</tr>\n",
       "</table>\n",
       "<table class=\"simpletable\">\n",
       "<tr>\n",
       "  <th>Omnibus:</th>       <td>82069.091</td> <th>  Durbin-Watson:     </th>  <td>   0.567</td> \n",
       "</tr>\n",
       "<tr>\n",
       "  <th>Prob(Omnibus):</th>  <td> 0.000</td>   <th>  Jarque-Bera (JB):  </th> <td>164136.644</td>\n",
       "</tr>\n",
       "<tr>\n",
       "  <th>Skew:</th>           <td> 1.366</td>   <th>  Prob(JB):          </th>  <td>    0.00</td> \n",
       "</tr>\n",
       "<tr>\n",
       "  <th>Kurtosis:</th>       <td> 4.841</td>   <th>  Cond. No.          </th>  <td>4.10e+05</td> \n",
       "</tr>\n",
       "</table>"
      ],
      "text/plain": [
       "<class 'statsmodels.iolib.summary.Summary'>\n",
       "\"\"\"\n",
       "                            OLS Regression Results                            \n",
       "==============================================================================\n",
       "Dep. Variable:                      y   R-squared:                       0.048\n",
       "Model:                            OLS   Adj. R-squared:                  0.048\n",
       "Method:                 Least Squares   F-statistic:                 1.821e+04\n",
       "Date:                Fri, 14 Jul 2017   Prob (F-statistic):               0.00\n",
       "Time:                        11:51:30   Log-Likelihood:            -4.1579e+06\n",
       "No. Observations:              362940   AIC:                         8.316e+06\n",
       "Df Residuals:                  362938   BIC:                         8.316e+06\n",
       "Df Model:                           1                                         \n",
       "Covariance Type:            nonrobust                                         \n",
       "==============================================================================\n",
       "                 coef    std err          t      P>|t|      [0.025      0.975]\n",
       "------------------------------------------------------------------------------\n",
       "const      -1.022e+06   7811.973   -130.806      0.000   -1.04e+06   -1.01e+06\n",
       "x1           528.6875      3.918    134.932      0.000     521.008     536.367\n",
       "==============================================================================\n",
       "Omnibus:                    82069.091   Durbin-Watson:                   0.567\n",
       "Prob(Omnibus):                  0.000   Jarque-Bera (JB):           164136.644\n",
       "Skew:                           1.366   Prob(JB):                         0.00\n",
       "Kurtosis:                       4.841   Cond. No.                     4.10e+05\n",
       "==============================================================================\n",
       "\n",
       "Warnings:\n",
       "[1] Standard Errors assume that the covariance matrix of the errors is correctly specified.\n",
       "[2] The condition number is large, 4.1e+05. This might indicate that there are\n",
       "strong multicollinearity or other numerical problems.\n",
       "\"\"\""
      ]
     },
     "execution_count": 99,
     "metadata": {},
     "output_type": "execute_result"
    }
   ],
   "source": [
    "year_model = sm.OLS(y_train, X_train).fit()\n",
    "year_model.summary()"
   ]
  },
  {
   "cell_type": "code",
   "execution_count": null,
   "metadata": {
    "collapsed": true
   },
   "outputs": [],
   "source": [
    "linear = LinearRegression()\n",
    "fit = linear.fit(y_train, X_train)\n"
   ]
  },
  {
   "cell_type": "markdown",
   "metadata": {},
   "source": [
    "Earliest sale year is 1989 and therefore earlier year made must also be 1989"
   ]
  },
  {
   "cell_type": "code",
   "execution_count": 70,
   "metadata": {},
   "outputs": [
    {
     "name": "stderr",
     "output_type": "stream",
     "text": [
      "/home/rosina/anaconda2/lib/python2.7/site-packages/ipykernel_launcher.py:2: SettingWithCopyWarning: \n",
      "A value is trying to be set on a copy of a slice from a DataFrame.\n",
      "Try using .loc[row_indexer,col_indexer] = value instead\n",
      "\n",
      "See the caveats in the documentation: http://pandas.pydata.org/pandas-docs/stable/indexing.html#indexing-view-versus-copy\n",
      "  \n"
     ]
    },
    {
     "data": {
      "text/plain": [
       "count    362940.000000\n",
       "mean        -10.220477\n",
       "std           7.569398\n",
       "min         -92.000000\n",
       "25%         -13.000000\n",
       "50%          -8.000000\n",
       "75%          -5.000000\n",
       "max          12.000000\n",
       "Name: saleage, dtype: float64"
      ]
     },
     "execution_count": 70,
     "metadata": {},
     "output_type": "execute_result"
    }
   ],
   "source": [
    "df3 = df[df['YearMade'] >= 1900]\n",
    "df3['saleage'] = df3.YearMade - df3.saleyear\n",
    "df3['saleage'].describe()"
   ]
  },
  {
   "cell_type": "code",
   "execution_count": 7,
   "metadata": {},
   "outputs": [
    {
     "data": {
      "text/html": [
       "<div>\n",
       "<style>\n",
       "    .dataframe thead tr:only-child th {\n",
       "        text-align: right;\n",
       "    }\n",
       "\n",
       "    .dataframe thead th {\n",
       "        text-align: left;\n",
       "    }\n",
       "\n",
       "    .dataframe tbody tr th {\n",
       "        vertical-align: top;\n",
       "    }\n",
       "</style>\n",
       "<table border=\"1\" class=\"dataframe\">\n",
       "  <thead>\n",
       "    <tr style=\"text-align: right;\">\n",
       "      <th></th>\n",
       "      <th>count</th>\n",
       "      <th>mean</th>\n",
       "      <th>std</th>\n",
       "      <th>min</th>\n",
       "      <th>25%</th>\n",
       "      <th>50%</th>\n",
       "      <th>75%</th>\n",
       "      <th>max</th>\n",
       "    </tr>\n",
       "  </thead>\n",
       "  <tbody>\n",
       "    <tr>\n",
       "      <th>SalePrice</th>\n",
       "      <td>401125.0</td>\n",
       "      <td>31099.712848</td>\n",
       "      <td>23036.898502</td>\n",
       "      <td>4750.0</td>\n",
       "      <td>14500.0</td>\n",
       "      <td>24000.0</td>\n",
       "      <td>40000.0</td>\n",
       "      <td>142000.0</td>\n",
       "    </tr>\n",
       "    <tr>\n",
       "      <th>MachineHoursCurrentMeter</th>\n",
       "      <td>142765.0</td>\n",
       "      <td>3457.955353</td>\n",
       "      <td>27590.256413</td>\n",
       "      <td>0.0</td>\n",
       "      <td>0.0</td>\n",
       "      <td>0.0</td>\n",
       "      <td>3025.0</td>\n",
       "      <td>2483300.0</td>\n",
       "    </tr>\n",
       "  </tbody>\n",
       "</table>\n",
       "</div>"
      ],
      "text/plain": [
       "                             count          mean           std     min  \\\n",
       "SalePrice                 401125.0  31099.712848  23036.898502  4750.0   \n",
       "MachineHoursCurrentMeter  142765.0   3457.955353  27590.256413     0.0   \n",
       "\n",
       "                              25%      50%      75%        max  \n",
       "SalePrice                 14500.0  24000.0  40000.0   142000.0  \n",
       "MachineHoursCurrentMeter      0.0      0.0   3025.0  2483300.0  "
      ]
     },
     "execution_count": 7,
     "metadata": {},
     "output_type": "execute_result"
    }
   ],
   "source": [
    "\n",
    "df2 = df[['SalePrice','MachineHoursCurrentMeter','Transmission']]\n",
    "df2.describe().T"
   ]
  },
  {
   "cell_type": "code",
   "execution_count": 8,
   "metadata": {},
   "outputs": [
    {
     "name": "stdout",
     "output_type": "stream",
     "text": [
      "count       183230\n",
      "unique           8\n",
      "top       Standard\n",
      "freq        140328\n",
      "Name: Transmission, dtype: object\n"
     ]
    },
    {
     "data": {
      "text/plain": [
       "Standard               140328\n",
       "None or Unspecified     23147\n",
       "Powershift              11731\n",
       "Powershuttle             4244\n",
       "Hydrostatic              3204\n",
       "Direct Drive              418\n",
       "Autoshift                 114\n",
       "AutoShift                  44\n",
       "Name: Transmission, dtype: int64"
      ]
     },
     "execution_count": 8,
     "metadata": {},
     "output_type": "execute_result"
    }
   ],
   "source": [
    "print df2['Transmission'].describe()\n",
    "df2['Transmission'].value_counts()"
   ]
  },
  {
   "cell_type": "markdown",
   "metadata": {},
   "source": [
    "# Machine Hours Current Meter"
   ]
  },
  {
   "cell_type": "code",
   "execution_count": 9,
   "metadata": {},
   "outputs": [
    {
     "ename": "SyntaxError",
     "evalue": "invalid syntax (<ipython-input-9-066a947a93b9>, line 1)",
     "output_type": "error",
     "traceback": [
      "\u001b[0;36m  File \u001b[0;32m\"<ipython-input-9-066a947a93b9>\"\u001b[0;36m, line \u001b[0;32m1\u001b[0m\n\u001b[0;31m    df2.\u001b[0m\n\u001b[0m        ^\u001b[0m\n\u001b[0;31mSyntaxError\u001b[0m\u001b[0;31m:\u001b[0m invalid syntax\n"
     ]
    }
   ],
   "source": [
    "df2."
   ]
  },
  {
   "cell_type": "code",
   "execution_count": 10,
   "metadata": {},
   "outputs": [
    {
     "data": {
      "image/png": "[encoded data removed]",
      "text/plain": [
       "<matplotlib.figure.Figure at 0x7fc048b3f710>"
      ]
     },
     "metadata": {},
     "output_type": "display_data"
    }
   ],
   "source": [
    "plt.scatter(df2.SalePrice, df2.MachineHoursCurrentMeter)\n",
    "plt.show()"
   ]
  },
  {
   "cell_type": "code",
   "execution_count": null,
   "metadata": {
    "collapsed": true
   },
   "outputs": [],
   "source": []
  }
 ],
 "metadata": {
  "kernelspec": {
   "display_name": "Python 2",
   "language": "python",
   "name": "python2"
  },
  "language_info": {
   "codemirror_mode": {
    "name": "ipython",
    "version": 2
   },
   "file_extension": ".py",
   "mimetype": "text/x-python",
   "name": "python",
   "nbconvert_exporter": "python",
   "pygments_lexer": "ipython2",
   "version": "2.7.13"
  }
 },
 "nbformat": 4,
 "nbformat_minor": 2
}
